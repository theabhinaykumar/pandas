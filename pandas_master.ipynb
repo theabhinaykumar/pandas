{
 "cells": [
  {
   "cell_type": "markdown",
   "id": "ee27abd1",
   "metadata": {},
   "source": [
    "# 🚀 Beginner Level (0 to Basics)\n",
    "\n"
   ]
  },
  {
   "cell_type": "code",
   "execution_count": null,
   "id": "6e08dada",
   "metadata": {},
   "outputs": [],
   "source": []
  },
  {
   "cell_type": "markdown",
   "id": "d81efa9f",
   "metadata": {},
   "source": [
    "# 🔹 Step 1: Introduction to pandas\n",
    "\n",
    "### What is pandas?\n",
    "Pandas is a powerful Python library for data analysis and manipulation.\n",
    "\n",
    "### Installation\n",
    "`pip install pandas`\n",
    "\n",
    "### Importing pandas\n",
    "```python\n",
    "import pandas as pd\n",
    "```\n",
    "\n",
    "### Code Practice\n"
   ]
  },
  {
   "cell_type": "code",
   "execution_count": 1,
   "id": "28af816c",
   "metadata": {},
   "outputs": [],
   "source": [
    "import pandas as pd"
   ]
  },
  {
   "cell_type": "markdown",
   "id": "0f6ef9a8",
   "metadata": {},
   "source": [
    "# 🔹 Step 2: Understanding pandas Data Structures\n",
    "\n",
    "### Series (1D Data)\n",
    "A Series is a one-dimensional array-like object.\n",
    "\n",
    "### DataFrame (2D Data)\n",
    "A DataFrame is a two-dimensional, table-like data structure.\n",
    "\n",
    "### Creating Series and DataFrames\n",
    "```python\n",
    "# From Lists\n",
    "s = pd.Series([1, 2, 3, 4])\n",
    "\n",
    "# From Dictionaries\n",
    "df = pd.DataFrame({'A': [1, 2], 'B': [3, 4]})\n",
    "\n",
    "# From NumPy Arrays\n",
    "import numpy as np\n",
    "df = pd.DataFrame(np.random.rand(4,3), columns=['A', 'B', 'C'])\n",
    "\n",
    "# From CSV Files\n",
    "df = pd.read_csv('data.csv')\n",
    "```\n",
    "\n",
    "### Code Practice\n"
   ]
  },
  {
   "cell_type": "code",
   "execution_count": 5,
   "id": "3b2832bc",
   "metadata": {},
   "outputs": [
    {
     "data": {
      "text/html": [
       "<div>\n",
       "<style scoped>\n",
       "    .dataframe tbody tr th:only-of-type {\n",
       "        vertical-align: middle;\n",
       "    }\n",
       "\n",
       "    .dataframe tbody tr th {\n",
       "        vertical-align: top;\n",
       "    }\n",
       "\n",
       "    .dataframe thead th {\n",
       "        text-align: right;\n",
       "    }\n",
       "</style>\n",
       "<table border=\"1\" class=\"dataframe\">\n",
       "  <thead>\n",
       "    <tr style=\"text-align: right;\">\n",
       "      <th></th>\n",
       "      <th>Region</th>\n",
       "      <th>Country</th>\n",
       "      <th>Item Type</th>\n",
       "      <th>Sales Channel</th>\n",
       "      <th>Order Priority</th>\n",
       "      <th>Order Date</th>\n",
       "      <th>Order ID</th>\n",
       "      <th>Ship Date</th>\n",
       "      <th>Units Sold</th>\n",
       "      <th>Unit Price</th>\n",
       "      <th>Unit Cost</th>\n",
       "      <th>Total Revenue</th>\n",
       "      <th>Total Cost</th>\n",
       "      <th>Total Profit</th>\n",
       "    </tr>\n",
       "  </thead>\n",
       "  <tbody>\n",
       "    <tr>\n",
       "      <th>0</th>\n",
       "      <td>Sub-Saharan Africa</td>\n",
       "      <td>South Africa</td>\n",
       "      <td>Fruits</td>\n",
       "      <td>Offline</td>\n",
       "      <td>M</td>\n",
       "      <td>7/27/2012</td>\n",
       "      <td>443368995</td>\n",
       "      <td>7/28/2012</td>\n",
       "      <td>1593</td>\n",
       "      <td>9.33</td>\n",
       "      <td>6.92</td>\n",
       "      <td>14862.69</td>\n",
       "      <td>11023.56</td>\n",
       "      <td>3839.13</td>\n",
       "    </tr>\n",
       "    <tr>\n",
       "      <th>1</th>\n",
       "      <td>Middle East and North Africa</td>\n",
       "      <td>Morocco</td>\n",
       "      <td>Clothes</td>\n",
       "      <td>Online</td>\n",
       "      <td>M</td>\n",
       "      <td>9/14/2013</td>\n",
       "      <td>667593514</td>\n",
       "      <td>10/19/2013</td>\n",
       "      <td>4611</td>\n",
       "      <td>109.28</td>\n",
       "      <td>35.84</td>\n",
       "      <td>503890.08</td>\n",
       "      <td>165258.24</td>\n",
       "      <td>338631.84</td>\n",
       "    </tr>\n",
       "  </tbody>\n",
       "</table>\n",
       "</div>"
      ],
      "text/plain": [
       "                         Region       Country Item Type Sales Channel  \\\n",
       "0            Sub-Saharan Africa  South Africa    Fruits       Offline   \n",
       "1  Middle East and North Africa       Morocco   Clothes        Online   \n",
       "\n",
       "  Order Priority Order Date   Order ID   Ship Date  Units Sold  Unit Price  \\\n",
       "0              M  7/27/2012  443368995   7/28/2012        1593        9.33   \n",
       "1              M  9/14/2013  667593514  10/19/2013        4611      109.28   \n",
       "\n",
       "   Unit Cost  Total Revenue  Total Cost  Total Profit  \n",
       "0       6.92       14862.69    11023.56       3839.13  \n",
       "1      35.84      503890.08   165258.24     338631.84  "
      ]
     },
     "execution_count": 5,
     "metadata": {},
     "output_type": "execute_result"
    }
   ],
   "source": [
    "df = pd.read_csv(\"data.csv\")\n",
    "df.head(2)"
   ]
  },
  {
   "cell_type": "markdown",
   "id": "d996bf95",
   "metadata": {},
   "source": [
    "# 🔹 Step 3: Basic DataFrame Operations\n",
    "\n",
    "### Checking Data\n",
    "```python\n",
    "df.head()\n",
    "df.tail()\n",
    "df.info -- have diffrent type\n",
    "df.info() -- have diffrent type\n",
    "df.describe -- have diffrent type\n",
    "df.describe().round(1) -- have diffrent type\n",
    "df.columns\n",
    "df['Region'].unique()\n",
    "```\n",
    "\n",
    "### Accessing Columns and Rows\n",
    "```python\n",
    "df['city']\n",
    "df.loc[0:3, ['city', 'type']]\n",
    "df.iloc[0:3, [1, 2]]\n",
    "```\n",
    "\n",
    "### Adding & Removing Columns\n",
    "```python\n",
    "df['new_col'] = values\n",
    "df.drop(columns=['col'], inplace=True)\n",
    "```\n",
    "\n",
    "### Columns\n",
    "```\n",
    "Index(['Region', 'Country', 'Item Type', 'Sales Channel', 'Order Priority',\n",
    "       'Order Date', 'Order ID', 'Ship Date', 'Units Sold', 'Unit Price',\n",
    "       'Unit Cost', 'Total Revenue', 'Total Cost', 'Total Profit'],\n",
    "      dtype='object')\n",
    "```\n",
    "\n",
    "### Code Practice\n"
   ]
  },
  {
   "cell_type": "code",
   "execution_count": 18,
   "id": "9d7ad3c4",
   "metadata": {},
   "outputs": [
    {
     "data": {
      "text/plain": [
       "array(['Sub-Saharan Africa', 'Middle East and North Africa',\n",
       "       'Australia and Oceania', 'Europe', 'Asia',\n",
       "       'Central America and the Caribbean', 'North America'], dtype=object)"
      ]
     },
     "execution_count": 18,
     "metadata": {},
     "output_type": "execute_result"
    }
   ],
   "source": [
    "# df.head(2)\n",
    "# df.tail(2)\n",
    "# df.info\n",
    "# df.info()\n",
    "# df.describe\n",
    "# df.describe().round(1)\n",
    "# df.columns\n",
    "df['Region'].unique()"
   ]
  },
  {
   "cell_type": "markdown",
   "id": "22ae7ab7",
   "metadata": {},
   "source": [
    "# 📊 Intermediate Level (Core pandas Operations)\n",
    "\n"
   ]
  },
  {
   "cell_type": "code",
   "execution_count": null,
   "id": "a690ed9d",
   "metadata": {},
   "outputs": [],
   "source": []
  },
  {
   "cell_type": "markdown",
   "id": "434cd4c5",
   "metadata": {},
   "source": [
    "# 🔹 Step 4: Data Cleaning & Preprocessing\n",
    "\n",
    "### Handling Missing Values\n",
    "```python\n",
    "df.isnull().sum()\n",
    "df.fillna(0)\n",
    "df.dropna()\n",
    "```\n",
    "\n",
    "### Changing Data Types\n",
    "```python\n",
    "df['price'] = df['price'].astype(float)\n",
    "```\n",
    "\n",
    "### Code Practice\n"
   ]
  },
  {
   "cell_type": "code",
   "execution_count": null,
   "id": "ccead9cf",
   "metadata": {},
   "outputs": [],
   "source": []
  },
  {
   "cell_type": "markdown",
   "id": "124fe3dd",
   "metadata": {},
   "source": [
    "# 🔹 Step 5: Data Selection & Filtering\n",
    "\n",
    "### Conditional Selection\n",
    "```python\n",
    "df[df['Age'] > 30]\n",
    "df[df['Age'] < 30]\n",
    "df[df['Age'] == 30]\n",
    "```\n",
    "\n",
    "### Multiple Conditions\n",
    "```python\n",
    "df[(df['Age'] > 30) & (df['Salary'] > 60000)]\n",
    "```\n",
    "\n",
    "### Code Practice\n"
   ]
  },
  {
   "cell_type": "code",
   "execution_count": null,
   "id": "1dfb0cf1",
   "metadata": {},
   "outputs": [],
   "source": []
  },
  {
   "cell_type": "markdown",
   "id": "1e534c86",
   "metadata": {},
   "source": [
    "# 🔹 Step 6: Data Aggregation & Grouping\n",
    "\n",
    "### GroupBy Operations\n",
    "```python\n",
    "df.groupby('Region')[['Units Sold', 'Total Cost']].sum()\n",
    "```\n",
    "\n",
    "### Code Practice\n"
   ]
  },
  {
   "cell_type": "code",
   "execution_count": null,
   "id": "1e29083a",
   "metadata": {},
   "outputs": [],
   "source": []
  },
  {
   "cell_type": "markdown",
   "id": "fbda4c01",
   "metadata": {},
   "source": [
    "# 🔹 Step 7: Sorting & Indexing\n",
    "\n",
    "```python\n",
    "df.sort_values(by='Salary', ascending=False)\n",
    "df.set_index('Name')\n",
    "```\n",
    "\n",
    "### Code Practice\n"
   ]
  },
  {
   "cell_type": "code",
   "execution_count": null,
   "id": "0b761542",
   "metadata": {},
   "outputs": [],
   "source": []
  },
  {
   "cell_type": "markdown",
   "id": "34b9996e",
   "metadata": {},
   "source": [
    "# 🔹 Step 8: Merging & Joining Data\n",
    "\n",
    "```python\n",
    "df1 = pd.DataFrame({'ID': [1, 2], 'Name': ['Alice', 'Bob']})\n",
    "df2 = pd.DataFrame({'ID': [1, 2], 'Salary': [50000, 60000]})\n",
    "merged_df = pd.merge(df1, df2, on='ID')\n",
    "```\n",
    "\n",
    "### Code Practice\n"
   ]
  },
  {
   "cell_type": "code",
   "execution_count": null,
   "id": "45cfad63",
   "metadata": {},
   "outputs": [],
   "source": []
  },
  {
   "cell_type": "markdown",
   "id": "795c1ddd",
   "metadata": {},
   "source": [
    "# 📈 Advanced Level (Performance Optimization & Advanced Features)\n",
    "\n"
   ]
  },
  {
   "cell_type": "code",
   "execution_count": null,
   "id": "f14ae56d",
   "metadata": {},
   "outputs": [],
   "source": []
  },
  {
   "cell_type": "markdown",
   "id": "7aa0d263",
   "metadata": {},
   "source": [
    "# 🔹 Step 9: Handling Dates & Time Series Analysis\n",
    "\n",
    "```python\n",
    "df['date'] = pd.to_datetime(df['date'])\n",
    "df['year'] = df['date'].dt.year\n",
    "```\n",
    "\n",
    "### Code Practice\n"
   ]
  },
  {
   "cell_type": "code",
   "execution_count": null,
   "id": "7eddcbc9",
   "metadata": {},
   "outputs": [],
   "source": []
  },
  {
   "cell_type": "markdown",
   "id": "718ca61d",
   "metadata": {},
   "source": [
    "# 🔹 Step 10: Working with Large Datasets (Performance Optimization)\n",
    "\n",
    "```python\n",
    "df.to_parquet('data.parquet')\n",
    "```\n",
    "\n",
    "### Code Practice\n"
   ]
  },
  {
   "cell_type": "code",
   "execution_count": null,
   "id": "37442f4e",
   "metadata": {},
   "outputs": [],
   "source": []
  },
  {
   "cell_type": "markdown",
   "id": "3c3642b3",
   "metadata": {},
   "source": [
    "# 🔹 Step 11: Data Visualization with pandas\n",
    "\n",
    "```python\n",
    "df.plot(kind='line')\n",
    "```\n",
    "\n",
    "### Code Practice\n"
   ]
  },
  {
   "cell_type": "code",
   "execution_count": null,
   "id": "f4730782",
   "metadata": {},
   "outputs": [],
   "source": []
  },
  {
   "cell_type": "markdown",
   "id": "05a7e302",
   "metadata": {},
   "source": [
    "# 🔹 Step 12: Exporting & Saving Data\n",
    "\n",
    "```python\n",
    "df.to_csv('output.csv')\n",
    "```\n",
    "\n",
    "### Code Practice\n"
   ]
  },
  {
   "cell_type": "code",
   "execution_count": null,
   "id": "b74e3ba1",
   "metadata": {},
   "outputs": [],
   "source": []
  },
  {
   "cell_type": "markdown",
   "id": "da6735c3",
   "metadata": {},
   "source": [
    "# 🎯 Expert Level (Real-World Applications & Integration)\n",
    "\n"
   ]
  },
  {
   "cell_type": "code",
   "execution_count": null,
   "id": "2dcf0af9",
   "metadata": {},
   "outputs": [],
   "source": []
  },
  {
   "cell_type": "markdown",
   "id": "bd509c82",
   "metadata": {},
   "source": [
    "# 🔹 Step 13: Connecting pandas with Databases\n",
    "\n",
    "```python\n",
    "import mysql.connector\n",
    "conn = mysql.connector.connect(host='localhost', user='user', password='pass', database='db')\n",
    "df = pd.read_sql('SELECT * FROM table', conn)\n",
    "```\n",
    "\n",
    "### Code Practice\n"
   ]
  },
  {
   "cell_type": "code",
   "execution_count": null,
   "id": "f4297af2",
   "metadata": {},
   "outputs": [],
   "source": []
  },
  {
   "cell_type": "markdown",
   "id": "e61f9137",
   "metadata": {},
   "source": [
    "# 🔹 Step 14: Automating Tasks with pandas\n",
    "\n",
    "```python\n",
    "import requests\n",
    "response = requests.get('API_URL')\n",
    "df = pd.json_normalize(response.json())\n",
    "```\n",
    "\n",
    "### Code Practice\n"
   ]
  },
  {
   "cell_type": "code",
   "execution_count": null,
   "id": "048a0d0e",
   "metadata": {},
   "outputs": [],
   "source": []
  },
  {
   "cell_type": "markdown",
   "id": "4f32ea57",
   "metadata": {},
   "source": [
    "# 🔹 Step 15: Machine Learning Integration\n",
    "\n",
    "```python\n",
    "df = pd.get_dummies(df, columns=['Category'])\n",
    "```\n",
    "\n",
    "### Code Practice\n"
   ]
  },
  {
   "cell_type": "code",
   "execution_count": null,
   "id": "08653619",
   "metadata": {},
   "outputs": [],
   "source": []
  },
  {
   "cell_type": "markdown",
   "id": "c036cb0b",
   "metadata": {},
   "source": [
    "# 🔹 Step 16: Real-World Projects & Case Studies\n",
    "\n",
    "Analyze datasets for Sales, HR, and Healthcare.\n",
    "\n",
    "### Code Practice\n"
   ]
  },
  {
   "cell_type": "markdown",
   "id": "d512b982-0e81-4ec9-a17f-78bef69c367c",
   "metadata": {},
   "source": [
    "## 🔹 Additional Advanced Topics\n",
    "\n",
    "### 1️⃣ MultiIndexing (Hierarchical Indexing)\n",
    "> Creating multi>level indexes (`df.set_index([col1, col2])`)\n",
    "> Accessing data with multiple index levels (`df.loc[(index1, index2)]`)\n",
    "> Unstacking & Stacking Data (`df.unstack()`, `df.stack()`)\n",
    "\n",
    "### 2️⃣ Advanced String Operations\n",
    "> Using `.str` methods (`df['column'].str.upper()`, `.str.strip()`, `.str.replace()`)\n",
    "> Extracting patterns with regex (`df['column'].str.extract()`)\n",
    "> Splitting strings into multiple columns (`df['column'].str.split()`)\n",
    "\n",
    "### 3️⃣ Window Functions (Rolling & Expanding)\n",
    "> Rolling Window Analysis (`df.rolling(window=3).mean()`)\n",
    "> Expanding Window (`df.expanding().sum()`)\n",
    "> Exponential Moving Average (`df.ewm(span=3).mean()`)\n",
    "\n",
    "### 4️⃣ Time Zone Handling\n",
    "> Converting time zones (`df['date'].dt.tz_localize()`)\n",
    "> Changing time zones (`df['date'].dt.tz_convert()`)\n",
    "\n",
    "### 5️⃣ Custom Aggregation Functions\n",
    "> Using `.agg()` with multiple functions\n",
    "> Writing custom aggregation functions\n",
    "\n",
    "### 6️⃣ Categorical Data Optimization\n",
    "> Converting object columns to categorical (`df['col'] = df['col'].astype('category')`)\n",
    "> Performance benefits of categorical data\n",
    "\n",
    "### 7️⃣ Sparse Data Handling\n",
    "> Working with sparse data (`pd.SparseArray()`)\n",
    "> Memory optimization techniques\n",
    "\n",
    "### 8️⃣ Pandas with JSON Data\n",
    "> Reading and normalizing JSON (`pd.json_normalize()`)\n",
    "> Flattening nested JSON structures\n",
    "\n",
    "### 9️⃣ Advanced SQL Integration\n",
    "> Fetching large datasets efficiently (`chunksize` in `pd.read_sql()`)\n",
    "> Using SQLAlchemy with pandas\n",
    "> Query optimization for pandas & SQL\n",
    "\n",
    "### 🔟 Pandas Profiling for Automated EDA\n",
    "> Using `pandas>profiling` for automatic data analysis\n",
    "> Generating a summary report of dataset statistics"
   ]
  },
  {
   "cell_type": "code",
   "execution_count": null,
   "id": "2f5edddb",
   "metadata": {},
   "outputs": [],
   "source": []
  },
  {
   "cell_type": "code",
   "execution_count": null,
   "id": "66880987-f9ed-4083-acd3-3be182b33260",
   "metadata": {},
   "outputs": [],
   "source": []
  },
  {
   "cell_type": "markdown",
   "id": "1d5a4fdd",
   "metadata": {},
   "source": [
    "## 🚀 Expert Level: Advanced Pandas for Data Analysts\n",
    "\n",
    "This section covers advanced data manipulation techniques for expert-level data analysis."
   ]
  },
  {
   "cell_type": "markdown",
   "id": "74311ef7",
   "metadata": {},
   "source": [
    "### 🔹 Advanced Data Cleaning & Preprocessing\n",
    "\n",
    "- Handling missing values: `fillna()`, `interpolate()`, `dropna()`\n",
    "- Detecting and removing duplicates: `drop_duplicates()`\n",
    "- Handling outliers using IQR method\n",
    "- Data type conversions with `astype()`\n",
    "\n",
    "```python\n",
    "# Handling missing values\n",
    "df.fillna(method='ffill')\n",
    "\n",
    "# Detecting duplicates\n",
    "df.duplicated().sum()\n",
    "\n",
    "# Removing outliers\n",
    "Q1 = df.quantile(0.25)\n",
    "Q3 = df.quantile(0.75)\n",
    "IQR = Q3 - Q1\n",
    "df = df[~((df < (Q1 - 1.5 * IQR)) | (df > (Q3 + 1.5 * IQR))).any(axis=1)]\n",
    "```\n"
   ]
  },
  {
   "cell_type": "markdown",
   "id": "91e0dbe2",
   "metadata": {},
   "source": [
    "### 🔹 Performance Optimization\n",
    "\n",
    "- Using `categorical` data types for memory efficiency\n",
    "- Checking memory usage with `df.info()`\n",
    "- Downcasting numerical types to optimize RAM usage\n",
    "\n",
    "```python\n",
    "# Converting columns to category type\n",
    "df['category_column'] = df['category_column'].astype('category')\n",
    "\n",
    "# Downcasting numerical columns\n",
    "df['int_column'] = pd.to_numeric(df['int_column'], downcast='integer')\n",
    "df['float_column'] = pd.to_numeric(df['float_column'], downcast='float')\n",
    "```\n"
   ]
  },
  {
   "cell_type": "markdown",
   "id": "ab096b23",
   "metadata": {},
   "source": [
    "### 🔹 Time Series Analysis\n",
    "\n",
    "- Converting columns to `datetime`\n",
    "- Extracting date parts (year, month, day)\n",
    "- Resampling time-series data\n",
    "\n",
    "```python\n",
    "# Convert column to datetime\n",
    "df['date_column'] = pd.to_datetime(df['date_column'])\n",
    "\n",
    "# Extract year, month, day\n",
    "df['year'] = df['date_column'].dt.year\n",
    "df['month'] = df['date_column'].dt.month\n",
    "\n",
    "# Resampling data\n",
    "df.resample('M', on='date_column').sum()\n",
    "```\n"
   ]
  },
  {
   "cell_type": "markdown",
   "id": "80b1fcd7",
   "metadata": {},
   "source": [
    "### 🔹 Merging, Joining & Concatenation\n",
    "\n",
    "- `merge()` for SQL-style joins\n",
    "- Concatenating multiple DataFrames\n",
    "- `join()` for combining index-based datasets\n",
    "\n",
    "```python\n",
    "# Merging two DataFrames\n",
    "merged_df = df1.merge(df2, on='common_column', how='inner')\n",
    "\n",
    "# Concatenating multiple DataFrames\n",
    "concat_df = pd.concat([df1, df2], axis=0)\n",
    "```\n"
   ]
  }
 ],
 "metadata": {
  "kernelspec": {
   "display_name": "Python 3 (ipykernel)",
   "language": "python",
   "name": "python3"
  },
  "language_info": {
   "codemirror_mode": {
    "name": "ipython",
    "version": 3
   },
   "file_extension": ".py",
   "mimetype": "text/x-python",
   "name": "python",
   "nbconvert_exporter": "python",
   "pygments_lexer": "ipython3",
   "version": "3.13.2"
  }
 },
 "nbformat": 4,
 "nbformat_minor": 5
}
